{
 "cells": [
  {
   "cell_type": "code",
   "execution_count": 1,
   "id": "ef8b579a",
   "metadata": {},
   "outputs": [
    {
     "name": "stdout",
     "output_type": "stream",
     "text": [
      "Collecting package metadata (current_repodata.json): ...working... done\n",
      "Solving environment: ...working... done\n",
      "\n",
      "## Package Plan ##\n",
      "\n",
      "  environment location: /opt/conda\n",
      "\n",
      "  added / updated specs:\n",
      "    - dask\n",
      "    - netcdf4\n",
      "    - scipy\n",
      "    - xarray\n",
      "\n",
      "\n",
      "The following packages will be downloaded:\n",
      "\n",
      "    package                    |            build\n",
      "    ---------------------------|-----------------\n",
      "    bokeh-2.3.3                |   py37h89c1867_0         8.2 MB  conda-forge\n",
      "    cftime-1.5.0               |   py37h6f94858_0         224 KB  conda-forge\n",
      "    curl-7.78.0                |       hea6ffbf_0         148 KB  conda-forge\n",
      "    cytoolz-0.11.0             |   py37h5e8e339_3         403 KB  conda-forge\n",
      "    dask-2021.7.1              |     pyhd8ed1ab_0           4 KB  conda-forge\n",
      "    dask-core-2021.7.1         |     pyhd8ed1ab_0         750 KB  conda-forge\n",
      "    distributed-2021.7.1       |   py37h89c1867_0         1.0 MB  conda-forge\n",
      "    hdf4-4.2.15                |       h10796ff_3         950 KB  conda-forge\n",
      "    heapdict-1.0.1             |             py_0           7 KB  conda-forge\n",
      "    libcurl-7.78.0             |       h2574ce0_0         335 KB  conda-forge\n",
      "    libnetcdf-4.8.0            |nompi_hcd642e3_103         1.5 MB  conda-forge\n",
      "    libzip-1.8.0               |       h4de3113_0         127 KB  conda-forge\n",
      "    locket-0.2.0               |             py_2           6 KB  conda-forge\n",
      "    msgpack-python-1.0.2       |   py37h2527ec5_1          91 KB  conda-forge\n",
      "    netcdf4-1.5.7              |nompi_py37h946d57d_100         530 KB  conda-forge\n",
      "    partd-1.2.0                |     pyhd8ed1ab_0          18 KB  conda-forge\n",
      "    psutil-5.8.0               |   py37h5e8e339_1         342 KB  conda-forge\n",
      "    scipy-1.7.0                |   py37h29e03ee_1        21.7 MB  conda-forge\n",
      "    sortedcontainers-2.4.0     |     pyhd8ed1ab_0          26 KB  conda-forge\n",
      "    tblib-1.7.0                |     pyhd8ed1ab_0          15 KB  conda-forge\n",
      "    toolz-0.11.1               |             py_0          46 KB  conda-forge\n",
      "    xarray-0.19.0              |     pyhd8ed1ab_1         614 KB  conda-forge\n",
      "    zict-2.0.0                 |             py_0          10 KB  conda-forge\n",
      "    ------------------------------------------------------------\n",
      "                                           Total:        37.0 MB\n",
      "\n",
      "The following NEW packages will be INSTALLED:\n",
      "\n",
      "  bokeh              conda-forge/linux-64::bokeh-2.3.3-py37h89c1867_0\n",
      "  cftime             conda-forge/linux-64::cftime-1.5.0-py37h6f94858_0\n",
      "  curl               conda-forge/linux-64::curl-7.78.0-hea6ffbf_0\n",
      "  cytoolz            conda-forge/linux-64::cytoolz-0.11.0-py37h5e8e339_3\n",
      "  dask               conda-forge/noarch::dask-2021.7.1-pyhd8ed1ab_0\n",
      "  dask-core          conda-forge/noarch::dask-core-2021.7.1-pyhd8ed1ab_0\n",
      "  distributed        conda-forge/linux-64::distributed-2021.7.1-py37h89c1867_0\n",
      "  hdf4               conda-forge/linux-64::hdf4-4.2.15-h10796ff_3\n",
      "  heapdict           conda-forge/noarch::heapdict-1.0.1-py_0\n",
      "  libnetcdf          conda-forge/linux-64::libnetcdf-4.8.0-nompi_hcd642e3_103\n",
      "  libzip             conda-forge/linux-64::libzip-1.8.0-h4de3113_0\n",
      "  locket             conda-forge/noarch::locket-0.2.0-py_2\n",
      "  msgpack-python     conda-forge/linux-64::msgpack-python-1.0.2-py37h2527ec5_1\n",
      "  netcdf4            conda-forge/linux-64::netcdf4-1.5.7-nompi_py37h946d57d_100\n",
      "  partd              conda-forge/noarch::partd-1.2.0-pyhd8ed1ab_0\n",
      "  psutil             conda-forge/linux-64::psutil-5.8.0-py37h5e8e339_1\n",
      "  sortedcontainers   conda-forge/noarch::sortedcontainers-2.4.0-pyhd8ed1ab_0\n",
      "  tblib              conda-forge/noarch::tblib-1.7.0-pyhd8ed1ab_0\n",
      "  toolz              conda-forge/noarch::toolz-0.11.1-py_0\n",
      "  xarray             conda-forge/noarch::xarray-0.19.0-pyhd8ed1ab_1\n",
      "  zict               conda-forge/noarch::zict-2.0.0-py_0\n",
      "\n",
      "The following packages will be UPDATED:\n",
      "\n",
      "  libcurl                                 7.77.0-h2574ce0_0 --> 7.78.0-h2574ce0_0\n",
      "  scipy                                1.7.0-py37h29e03ee_0 --> 1.7.0-py37h29e03ee_1\n",
      "\n",
      "\n",
      "Preparing transaction: ...working... done\n",
      "Verifying transaction: ...working... done\n",
      "Executing transaction: ...working... done\n"
     ]
    }
   ],
   "source": [
    "!conda install -q -y xarray scipy dask netCDF4"
   ]
  },
  {
   "cell_type": "code",
   "execution_count": 2,
   "id": "8d4447eb",
   "metadata": {},
   "outputs": [
    {
     "name": "stdout",
     "output_type": "stream",
     "text": [
      "Collecting package metadata (current_repodata.json): ...working... done\n",
      "Solving environment: ...working... done\n",
      "\n",
      "## Package Plan ##\n",
      "\n",
      "  environment location: /opt/conda\n",
      "\n",
      "  added / updated specs:\n",
      "    - esmpy\n",
      "\n",
      "\n",
      "The following packages will be downloaded:\n",
      "\n",
      "    package                    |            build\n",
      "    ---------------------------|-----------------\n",
      "    esmf-8.1.1                 | nompi_hb4f3075_0        27.3 MB  conda-forge\n",
      "    esmpy-8.1.1                |nompi_py37hff16fce_0         173 KB  conda-forge\n",
      "    netcdf-fortran-4.5.3       |nompi_hf3f1587_104         1.3 MB  conda-forge\n",
      "    ------------------------------------------------------------\n",
      "                                           Total:        28.7 MB\n",
      "\n",
      "The following NEW packages will be INSTALLED:\n",
      "\n",
      "  esmf               conda-forge/linux-64::esmf-8.1.1-nompi_hb4f3075_0\n",
      "  esmpy              conda-forge/linux-64::esmpy-8.1.1-nompi_py37hff16fce_0\n",
      "  netcdf-fortran     conda-forge/linux-64::netcdf-fortran-4.5.3-nompi_hf3f1587_104\n",
      "\n",
      "\n",
      "Preparing transaction: ...working... done\n",
      "Verifying transaction: ...working... done\n",
      "Executing transaction: ...working... done\n"
     ]
    }
   ],
   "source": [
    "!conda install -q -y -c conda-forge esmpy"
   ]
  },
  {
   "cell_type": "code",
   "execution_count": null,
   "id": "3f33348f",
   "metadata": {},
   "outputs": [],
   "source": []
  }
 ],
 "metadata": {
  "environment": {
   "name": "common-cpu.m75",
   "type": "gcloud",
   "uri": "gcr.io/deeplearning-platform-release/base-cpu:m75"
  },
  "kernelspec": {
   "display_name": "Python 3",
   "language": "python",
   "name": "python3"
  },
  "language_info": {
   "codemirror_mode": {
    "name": "ipython",
    "version": 3
   },
   "file_extension": ".py",
   "mimetype": "text/x-python",
   "name": "python",
   "nbconvert_exporter": "python",
   "pygments_lexer": "ipython3",
   "version": "3.7.10"
  }
 },
 "nbformat": 4,
 "nbformat_minor": 5
}
