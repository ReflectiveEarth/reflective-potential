{
 "cells": [
  {
   "cell_type": "code",
   "execution_count": 1,
   "id": "a9dd7cba",
   "metadata": {},
   "outputs": [
    {
     "name": "stdout",
     "output_type": "stream",
     "text": [
      "\n",
      "Note: you may need to restart the kernel to use updated packages.\n"
     ]
    }
   ],
   "source": [
    "conda config --set channel_priority strict"
   ]
  },
  {
   "cell_type": "code",
   "execution_count": null,
   "id": "1b08c0fb",
   "metadata": {},
   "outputs": [
    {
     "name": "stdout",
     "output_type": "stream",
     "text": [
      "Collecting package metadata (repodata.json): - "
     ]
    }
   ],
   "source": [
    "!conda uninstall -y netCDF4 dask scipy xarray matplotlib rasterio"
   ]
  },
  {
   "cell_type": "code",
   "execution_count": null,
   "id": "015871b6",
   "metadata": {},
   "outputs": [],
   "source": [
    "!conda install -y -c conda-forge netCDF4 dask scipy xarray matplotlib rasterio"
   ]
  },
  {
   "cell_type": "code",
   "execution_count": null,
   "id": "c8059579",
   "metadata": {},
   "outputs": [],
   "source": [
    "!conda install -y -c nesii -c conda-forge \"esmpy=7.1.0\""
   ]
  },
  {
   "cell_type": "code",
   "execution_count": null,
   "id": "eb3692d6",
   "metadata": {},
   "outputs": [],
   "source": [
    "pip install xesmf"
   ]
  },
  {
   "cell_type": "code",
   "execution_count": null,
   "id": "21d34083",
   "metadata": {},
   "outputs": [],
   "source": [
    "import matplotlib.pyplot as plt\n",
    "from matplotlib import cm\n",
    "from matplotlib.colors import ListedColormap, LinearSegmentedColormap\n",
    "import numpy as np\n",
    "import os\n",
    "from rasterio.crs import CRS\n",
    "import xarray as xr\n",
    "import xesmf as xe"
   ]
  },
  {
   "cell_type": "code",
   "execution_count": null,
   "id": "77a8b36d",
   "metadata": {},
   "outputs": [],
   "source": [
    "data_dir = \"~/reflective-potential/assets/\""
   ]
  },
  {
   "cell_type": "code",
   "execution_count": null,
   "id": "1bb43dbd",
   "metadata": {},
   "outputs": [],
   "source": [
    "ds_rom = xr.open_dataset(os.path.join(data_dir, \"rom_analysis.nc\"))\n",
    "ds_rom = ds_rom.rename_dims({\"longitude\": \"lon\",\n",
    "                             \"latitude\": \"lat\"}).rename_vars({\"longitude\": \"lon\",\n",
    "                                                              \"latitude\": \"lat\"})"
   ]
  },
  {
   "cell_type": "code",
   "execution_count": null,
   "id": "4b3ddbe8",
   "metadata": {},
   "outputs": [],
   "source": [
    "ds_out = xr.Dataset({'lon': (['lon'], np.linspace(0.0, 359.9, 3600)),\n",
    "                     'lat': (['lat'], np.linspace(90.0, -90.0, 1801)),\n",
    "                    })\n",
    "regridder = xe.Regridder(ds_rom, ds_out, 'bilinear', \n",
    "                         periodic=True, reuse_weights=True)"
   ]
  },
  {
   "cell_type": "code",
   "execution_count": null,
   "id": "66377ce2",
   "metadata": {},
   "outputs": [],
   "source": [
    "ds_rom_prod = regridder(ds_rom)"
   ]
  },
  {
   "cell_type": "code",
   "execution_count": null,
   "id": "fb5e9cdf",
   "metadata": {},
   "outputs": [],
   "source": [
    "ds = xr.Dataset({\"osr\": ([\"lat\", \"lon\"], ds_rom_prod.psrosr.values)},\n",
    "                coords={\"lat\": ([\"lat\"], ds_rom_prod.lat.values),\n",
    "                        \"lon\": ([\"lon\"], ds_rom_prod.lon.values)})"
   ]
  },
  {
   "cell_type": "code",
   "execution_count": null,
   "id": "93275bf1",
   "metadata": {},
   "outputs": [],
   "source": [
    "ds.lat.attrs[\"long_name\"] = \"latitude\"\n",
    "ds.lat.attrs[\"units\"] = \"degrees_north\"\n",
    "ds.lat.attrs[\"standard_name\"] = \"latitude\""
   ]
  },
  {
   "cell_type": "code",
   "execution_count": null,
   "id": "03080dba",
   "metadata": {},
   "outputs": [],
   "source": [
    "ds.lon.attrs[\"long_name\"] = \"longitude\"\n",
    "ds.lon.attrs[\"units\"] = \"degrees_east\"\n",
    "ds.lon.attrs[\"standard_name\"] = \"longitude\""
   ]
  },
  {
   "cell_type": "code",
   "execution_count": null,
   "id": "5ddae697",
   "metadata": {},
   "outputs": [],
   "source": [
    "ds.osr.attrs[\"long_name\"] = \"outgoing solar radiation\"\n",
    "ds.osr.attrs[\"units\"] = \"W m**-2\"\n",
    "ds.osr.attrs[\"standard_name\"] = \"toa_outgoing_shortwave_flux\""
   ]
  },
  {
   "cell_type": "code",
   "execution_count": null,
   "id": "9bd7fd00",
   "metadata": {},
   "outputs": [],
   "source": [
    "ds.attrs[\"title\"] = \"Reflectivity Optimization Map\"\n",
    "ds.attrs[\"institution\"] = \"Reflective Earth Foundation\"\n",
    "ds.attrs[\"source\"] = \"ERA5 (ECMWF Copernicus Climate Change Service)\"\n",
    "ds.attrs[\"history\"] = (\"v0.4.0 - 20210728 - Updated 1991-2020 Long-term-mean Outgoing Solar Radiation and reflected radiation model (Stephens et al. 2015)\\n\"\n",
    "                       \"v0.3.0 - 20200901 - Updated 1990-2019 Long-term-mean Outgoing Solar Radiation\\n\"\n",
    "                       \"v0.2.0 - 20200610 - Updated 2017-2019 Long-term-mean Outgoing Solar Radiation\\n\"\n",
    "                       \"v0.1.2 - 20200516 - Updated 201901 Monthly-mean Outgoing Solar Radiation\\n\"\n",
    "                       \"v0.1.1 - 20200512 - Updated 20190101 Daily-mean Outgoing Solar Radiation\\n\"\n",
    "                       \"v0.1.0 - 20200511 - Initialized 20190101 (00 UTC) TOA Incoming Solar Radiation\")"
   ]
  },
  {
   "cell_type": "code",
   "execution_count": null,
   "id": "4c7c03f8",
   "metadata": {},
   "outputs": [],
   "source": [
    "ds"
   ]
  },
  {
   "cell_type": "code",
   "execution_count": null,
   "id": "4553227c",
   "metadata": {},
   "outputs": [],
   "source": [
    "ds.osr.plot()"
   ]
  },
  {
   "cell_type": "code",
   "execution_count": null,
   "id": "15b256ad",
   "metadata": {},
   "outputs": [],
   "source": [
    "ds.to_netcdf(os.path.join(data_dir, \"REF_ROM.nc\"), format=\"NETCDF3_64BIT\")"
   ]
  }
 ],
 "metadata": {
  "environment": {
   "name": "common-cpu.m75",
   "type": "gcloud",
   "uri": "gcr.io/deeplearning-platform-release/base-cpu:m75"
  },
  "kernelspec": {
   "display_name": "Python 3",
   "language": "python",
   "name": "python3"
  },
  "language_info": {
   "codemirror_mode": {
    "name": "ipython",
    "version": 3
   },
   "file_extension": ".py",
   "mimetype": "text/x-python",
   "name": "python",
   "nbconvert_exporter": "python",
   "pygments_lexer": "ipython3",
   "version": "3.7.10"
  }
 },
 "nbformat": 4,
 "nbformat_minor": 5
}
