{
 "cells": [
  {
   "cell_type": "code",
   "execution_count": null,
   "id": "7fc19229",
   "metadata": {},
   "outputs": [],
   "source": [
    "!conda install -y -c conda-forge \"esmpy<=7.1.0\" xarray scipy dask netCDF4 xesmf"
   ]
  },
  {
   "cell_type": "code",
   "execution_count": null,
   "id": "0470664d",
   "metadata": {},
   "outputs": [],
   "source": [
    "import numpy as np\n",
    "import os\n",
    "import xarray as xr\n",
    "import xesmf as xe"
   ]
  },
  {
   "cell_type": "code",
   "execution_count": null,
   "id": "925f483c",
   "metadata": {},
   "outputs": [],
   "source": [
    "data_dir = \"~/reflective-potential/assets/\""
   ]
  },
  {
   "cell_type": "code",
   "execution_count": null,
   "id": "70c3a64d",
   "metadata": {},
   "outputs": [],
   "source": [
    "ds_rom = xr.open_dataset(os.path.join(data_dir, \"rom_analysis.nc\"))\n",
    "ds_rom = ds_rom.rename_dims({\"longitude\": \"lon\",\n",
    "                             \"latitude\": \"lat\"}).rename_vars({\"longitude\": \"lon\",\n",
    "                                                              \"latitude\": \"lat\"})"
   ]
  },
  {
   "cell_type": "code",
   "execution_count": null,
   "id": "8fe966a0",
   "metadata": {},
   "outputs": [],
   "source": [
    "ds_out = xr.Dataset({'lon': (['lon'], np.linspace(0.0, 359.9, 3600)),\n",
    "                     'lat': (['lat'], np.linspace(90.0, -90.0, 1801)),\n",
    "                    })\n",
    "regridder = xe.Regridder(ds_rom, ds_out, 'bilinear', \n",
    "                         periodic=True, reuse_weights=True)"
   ]
  },
  {
   "cell_type": "code",
   "execution_count": null,
   "id": "9c861312",
   "metadata": {},
   "outputs": [],
   "source": [
    "ds_rom_prod = regridder(ds_rom)"
   ]
  },
  {
   "cell_type": "code",
   "execution_count": null,
   "id": "e6e29d4d",
   "metadata": {},
   "outputs": [],
   "source": [
    "ds = xr.Dataset({\"osr\": ([\"lat\", \"lon\"], ds_rom_prod.psrosr.values)},\n",
    "                coords={\"lat\": ([\"lat\"], ds_rom_prod.lat.values),\n",
    "                        \"lon\": ([\"lon\"], ds_rom_prod.lon.values)})"
   ]
  },
  {
   "cell_type": "code",
   "execution_count": null,
   "id": "87dca44f",
   "metadata": {},
   "outputs": [],
   "source": [
    "ds.lat.attrs[\"long_name\"] = \"latitude\"\n",
    "ds.lat.attrs[\"units\"] = \"degrees_north\"\n",
    "ds.lat.attrs[\"standard_name\"] = \"latitude\""
   ]
  },
  {
   "cell_type": "code",
   "execution_count": null,
   "id": "a89f3424",
   "metadata": {},
   "outputs": [],
   "source": [
    "ds.lon.attrs[\"long_name\"] = \"longitude\"\n",
    "ds.lon.attrs[\"units\"] = \"degrees_east\"\n",
    "ds.lon.attrs[\"standard_name\"] = \"longitude\""
   ]
  },
  {
   "cell_type": "code",
   "execution_count": null,
   "id": "b3b4edfb",
   "metadata": {},
   "outputs": [],
   "source": [
    "ds.osr.attrs[\"long_name\"] = \"outgoing solar radiation\"\n",
    "ds.osr.attrs[\"units\"] = \"W m**-2\"\n",
    "ds.osr.attrs[\"standard_name\"] = \"toa_outgoing_shortwave_flux\""
   ]
  },
  {
   "cell_type": "code",
   "execution_count": null,
   "id": "b756d8f9",
   "metadata": {},
   "outputs": [],
   "source": [
    "ds.attrs[\"title\"] = \"Reflectivity Optimization Map\"\n",
    "ds.attrs[\"institution\"] = \"Reflective Earth Foundation\"\n",
    "ds.attrs[\"source\"] = \"ERA5 (ECMWF Copernicus Climate Change Service)\"\n",
    "ds.attrs[\"history\"] = (\"v0.4.0 - 20210728 - Updated 1991-2020 Long-term-mean Outgoing Solar Radiation and reflected radiation model (Stephens et al. 2015)\\n\"\n",
    "                       \"v0.3.0 - 20200901 - Updated 1990-2019 Long-term-mean Outgoing Solar Radiation\\n\"\n",
    "                       \"v0.2.0 - 20200610 - Updated 2017-2019 Long-term-mean Outgoing Solar Radiation\\n\"\n",
    "                       \"v0.1.2 - 20200516 - Updated 201901 Monthly-mean Outgoing Solar Radiation\\n\"\n",
    "                       \"v0.1.1 - 20200512 - Updated 20190101 Daily-mean Outgoing Solar Radiation\\n\"\n",
    "                       \"v0.1.0 - 20200511 - Initialized 20190101 (00 UTC) TOA Incoming Solar Radiation\")"
   ]
  },
  {
   "cell_type": "code",
   "execution_count": null,
   "id": "c221453a",
   "metadata": {},
   "outputs": [],
   "source": [
    "ds"
   ]
  },
  {
   "cell_type": "code",
   "execution_count": null,
   "id": "02eb84e9",
   "metadata": {},
   "outputs": [],
   "source": [
    "ds.osr.plot()"
   ]
  },
  {
   "cell_type": "code",
   "execution_count": null,
   "id": "b1bd975b",
   "metadata": {},
   "outputs": [],
   "source": [
    "ds.to_netcdf(os.path.join(data_dir, \"REF_ROM.nc\"), format=\"NETCDF3_64BIT\")"
   ]
  }
 ],
 "metadata": {
  "environment": {
   "name": "common-cpu.m75",
   "type": "gcloud",
   "uri": "gcr.io/deeplearning-platform-release/base-cpu:m75"
  },
  "kernelspec": {
   "display_name": "Python 3 (ipykernel)",
   "language": "python",
   "name": "python3"
  },
  "language_info": {
   "codemirror_mode": {
    "name": "ipython",
    "version": 3
   },
   "file_extension": ".py",
   "mimetype": "text/x-python",
   "name": "python",
   "nbconvert_exporter": "python",
   "pygments_lexer": "ipython3",
   "version": "3.7.10"
  }
 },
 "nbformat": 4,
 "nbformat_minor": 5
}
