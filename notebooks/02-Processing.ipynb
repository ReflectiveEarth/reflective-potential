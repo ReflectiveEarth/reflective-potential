{
 "cells": [
  {
   "cell_type": "markdown",
   "id": "0e372d0f",
   "metadata": {},
   "source": [
    "# Data Processing\n",
    "\n",
    "This notebook contains a workflow to:\n",
    "1. Download hourly ERA5 data from a Google Cloud Storage bucket,\n",
    "1. Process the hourly ERA5 data into daily ERA5 data with the fields necessary for our subsequent analysis, and\n",
    "1. Upload the daily data to a Google Cloud Storage bucket.\n",
    "\n",
    "This data processing is necessary to support an analysis of Earth's radiation budget based on daily solar fluxes at the surface and the top of atmosphere, so we will process hourly averages into daily averages. ERA5 does not output top of atmosphere outgoing solar radiation or upwelling solar radiation at the surface, however these quantities can be inferred using the available fluxes at those levels (e.g. incoming radiation and net radiation at the top of atmosphere).\n",
    "\n",
    "## Preliminaries\n",
    "\n",
    "### Requirements\n",
    "\n",
    "* A Google Cloud project with Cloud Storage enabled ([Create new account](https://cloud.google.com/))\n",
    "* The following Python packages:"
   ]
  },
  {
   "cell_type": "code",
   "execution_count": 1,
   "id": "c4183b7c",
   "metadata": {},
   "outputs": [
    {
     "name": "stdout",
     "output_type": "stream",
     "text": [
      "Note: you may need to restart the kernel to use updated packages.\n"
     ]
    }
   ],
   "source": [
    "%pip install -q tqdm xarray dask scipy netCDF4 joblib google-cloud-storage"
   ]
  },
  {
   "cell_type": "markdown",
   "id": "67291919",
   "metadata": {},
   "source": [
    "### Imports"
   ]
  },
  {
   "cell_type": "code",
   "execution_count": 2,
   "id": "03afac52",
   "metadata": {},
   "outputs": [],
   "source": [
    "import contextlib\n",
    "from datetime import timedelta, date\n",
    "import logging\n",
    "import multiprocessing\n",
    "from os import system, path\n",
    "from sys import platform\n",
    "import time\n",
    "import warnings\n",
    "\n",
    "from google.cloud import storage\n",
    "from tqdm.notebook import tqdm\n",
    "import numpy as np\n",
    "import joblib\n",
    "from joblib import Parallel, delayed\n",
    "import xarray as xr"
   ]
  },
  {
   "cell_type": "markdown",
   "id": "717b19ca",
   "metadata": {},
   "source": [
    "### Setup\n",
    "\n",
    "Our analysis seeks a long-term estimate of the amount of outgoing radiation that Earth's surface can reflect. ERA5 has 42 years of hourly data available. A long-term climatology is typically defined as 30 years. Thus, we ingest the latest 30 years: 1991 through 2020. Since making a single request would be prohibitively large, we break the request up by day. "
   ]
  },
  {
   "cell_type": "code",
   "execution_count": 3,
   "id": "432d91c5",
   "metadata": {},
   "outputs": [],
   "source": [
    "year = 2012\n",
    "start_date = date(year, 1, 1)\n",
    "end_date = date(year, 2, 1)\n",
    "hourly_data_bucket = \"era5-single-level\"\n",
    "daily_data_bucket = \"era5-single-level-daily\"\n",
    "n_jobs = -3  # number of jobs for parallelization; if 1, then serial; if negative, then (n_cpus + 1 + n_jobs) are used\n",
    "\n",
    "xr.set_options(keep_attrs=True)\n",
    "warnings.filterwarnings(\"ignore\", category=FutureWarning)\n",
    "if platform == \"darwin\":\n",
    "    multiprocessing.set_start_method(\"fork\", force=True)  # ipython bug workaround https://github.com/ipython/ipython/issues/12396\n",
    "    \n",
    "logging.basicConfig(filename=\"process.log\", filemode=\"w\", level=logging.INFO)"
   ]
  },
  {
   "cell_type": "markdown",
   "id": "d3d3b39f",
   "metadata": {},
   "source": [
    "## Functions"
   ]
  },
  {
   "cell_type": "code",
   "execution_count": 4,
   "id": "17ec2c58",
   "metadata": {},
   "outputs": [],
   "source": [
    "@contextlib.contextmanager\n",
    "def tqdm_joblib(tqdm_object):\n",
    "    \"\"\"Patch joblib to report into tqdm progress bar given as argument.\"\"\"\n",
    "\n",
    "    def tqdm_print_progress(self):\n",
    "        if self.n_completed_tasks > tqdm_object.n:\n",
    "            n_completed = self.n_completed_tasks - tqdm_object.n\n",
    "            tqdm_object.update(n=n_completed)\n",
    "\n",
    "    original_print_progress = joblib.parallel.Parallel.print_progress\n",
    "    joblib.parallel.Parallel.print_progress = tqdm_print_progress\n",
    "\n",
    "    try:\n",
    "        yield tqdm_object\n",
    "    finally:\n",
    "        joblib.parallel.Parallel.print_progress = original_print_progress\n",
    "        tqdm_object.close()\n",
    "\n",
    "\n",
    "def daterange(start_date, end_date):\n",
    "    \"\"\"Make a date range object spanning two dates.\n",
    "    \n",
    "    Args:\n",
    "        start_date: date object to start from.\n",
    "        end_date: date object to end at.\n",
    "    \n",
    "    Yields:\n",
    "        date object for iteration.\n",
    "    \"\"\"\n",
    "    for n in range(int ((end_date - start_date).days)):\n",
    "        yield start_date + timedelta(n)\n",
    "\n",
    "\n",
    "def get_date_data_gcs(single_date, bucket_name):\n",
    "    \"\"\"Download a dataset for a single date from Google Cloud Storage.\n",
    "    \n",
    "    Args:\n",
    "        single_date: date object representing day to retrieve data for.\n",
    "        bucket_name: Google Cloud Storage bucket to download from.\n",
    "    \n",
    "    Returns:\n",
    "        Nothing; downloads data from Google Cloud Storage as a side effect.\n",
    "    \"\"\"\n",
    "    client = storage.Client()\n",
    "    bucket = client.get_bucket(bucket_name)    \n",
    "    blob = bucket.blob(f\"{single_date.strftime('%Y%m%d')}.nc\")\n",
    "    blob.download_to_filename(filename=f\"./{single_date.strftime('%Y%m%d')}.nc\")\n",
    "\n",
    "\n",
    "def put_date_data_gcs(single_date, bucket_name):\n",
    "    \"\"\"Upload a dataset for a single date to Google Cloud Storage.\n",
    "    \n",
    "    Args:\n",
    "        single_date: date object representing day to retrieve data for.\n",
    "        bucket_name: Google Cloud Storage bucket to upload to.\n",
    "        \n",
    "    Returns:\n",
    "        Nothing; uploads data to Google Cloud Storage as a side effect.\n",
    "    \"\"\"\n",
    "    client = storage.Client()\n",
    "    bucket = client.get_bucket(bucket_name)    \n",
    "    blob = bucket.blob(f\"{single_date.strftime('%Y%m%d')}.nc\")\n",
    "    blob.upload_from_filename(filename=f\"./{single_date.strftime('%Y%m%d')}.nc\")\n",
    "    \n",
    "\n",
    "def put_data_gcs(file_path, file_name, bucket_name):\n",
    "    \"\"\"Upload a file to Google Cloud Storage.\n",
    "    \n",
    "    Args:\n",
    "        file_path: local path to file.\n",
    "        file_name: filename to upload.\n",
    "        bucket_name: Google Cloud Storage bucket to upload to.\n",
    "        \n",
    "    Returns:\n",
    "        Nothing; uploads data to Google Cloud Storage as a side effect.\n",
    "    \"\"\"\n",
    "    client = storage.Client()\n",
    "    bucket = client.get_bucket(bucket_name)    \n",
    "    blob = bucket.blob(file_name)\n",
    "    blob.upload_from_filename(filename=path.join(file_path, file_name))\n",
    "    \n",
    "\n",
    "def check_blob_size(single_date, bucket_name, raise_threshold=1):\n",
    "    \"\"\"Verify that a GCS blob is larger than a specified threshold.\n",
    "    \n",
    "    Args:\n",
    "        single_date: date object representing day to retrieve data for.\n",
    "        bucket_name: Google Cloud Storage bucket to upload to.\n",
    "        raise_threshold: file size below which an exception should be raised.\n",
    "    \"\"\"\n",
    "    client = storage.Client()\n",
    "    bucket = client.get_bucket(bucket_name)    \n",
    "    blob = bucket.get_blob(f\"{single_date.strftime('%Y%m%d')}.nc\")\n",
    "    if blob.size < raise_threshold:\n",
    "        raise Exception(f\"{single_date.strftime('%Y%m%d')} data file size is smaller than expected\")\n",
    "    else:\n",
    "        logging.info(f\"{single_date.strftime('%Y%m%d')} file size in GCS is {int(blob.size * 1e-6)}MB\")\n",
    "\n",
    "\n",
    "def modify_units(dataset, starting_units, ending_units, conversion_factor):\n",
    "    \"\"\"Modify the units of a variable.\n",
    "    \n",
    "    Args:\n",
    "        dataset: xarray Dataset\n",
    "        starting_units: str of units to be modified\n",
    "        ending_units: str of units after modification\n",
    "        conversion_factor: numerical factor to apply to convert units\n",
    "    \n",
    "    Returns:\n",
    "        xarray Dataset with units modified for variables with units matching the starting unit.\n",
    "    \"\"\"\n",
    "    for variable in dataset:\n",
    "        if dataset[variable].attrs[\"units\"] == starting_units:\n",
    "            dataset[variable] = dataset[variable] * conversion_factor\n",
    "            dataset[variable].attrs[\"units\"] = ending_units\n",
    "    return dataset\n",
    "\n",
    "        \n",
    "def compute_daily_average(dataset):\n",
    "    \"\"\"Compute the daily average and an input xarray dataset.\"\"\"\n",
    "    return dataset.resample(time='1D').sum() / dataset.sizes[\"time\"]\n",
    "\n",
    "\n",
    "def compute_boundary_fluxes(dataset):\n",
    "    \"\"\"Compute missing boundary fluxes at the surface and top of atmosphere if possible.\n",
    "    \n",
    "    Use available radiative fluxes e.g. net solar radiation and incoming solar radiation to \n",
    "    compute outgoing solar radiation.\n",
    "    \n",
    "    Args:\n",
    "        dataset: xarray Dataset with radiative fluxes at the surface and top of atmosphere.\n",
    "        \n",
    "    Returns:\n",
    "        xarray Dataset with missing fluxes at the boundaries.\n",
    "    \"\"\"\n",
    "    if (\"tosr\" not in dataset) and all(x in dataset for x in [\"tisr\", \"tsr\"]):\n",
    "        dataset[\"tosr\"] = dataset[\"tisr\"] - dataset[\"tsr\"]\n",
    "        dataset[\"tosr\"].attrs[\"long_name\"] = \"TOA outgoing solar radiation\"\n",
    "        dataset[\"tosr\"].attrs[\"standard_name\"] = \"toa_outgoing_shortwave_flux\"\n",
    "    if (\"ssru\" not in dataset) and all(x in dataset for x in [\"ssrd\", \"ssr\"]):\n",
    "        dataset[\"ssru\"] = dataset[\"ssrd\"] - dataset[\"ssr\"]\n",
    "        dataset[\"ssru\"].attrs[\"long_name\"] = \"Surface solar radiation upwards\"\n",
    "        dataset[\"ssru\"].attrs[\"standard_name\"] = \"surface_upwelling_shortwave_flux_in_air\"\n",
    "    return dataset\n",
    "\n",
    "\n",
    "def compute_radiative_properties(dataset):\n",
    "    \"\"\"Compute new variables based on the model of Stephens et al. (2015).\n",
    "    \n",
    "    Stephens, G. L., O'Brien, D., Webster, P. J., Pilewski, P., Kato, S., \n",
    "    and Li, J. (2015), The albedo of Earth. Rev. Geophys., 53, 141–163. \n",
    "    doi: 10.1002/2014RG000449.\n",
    "    \n",
    "    Specifically, compute system reflectivity, transmittance, and surface albedo, then\n",
    "    use those properties to compute the reflectance and transmittance of a 1-layer\n",
    "    atmosphere following the simple model provided by Stephens et al.\n",
    "    \n",
    "    Finally, compute the surface contribution to outgoing solar radiation and the potential\n",
    "    surface contribution to the outgoing solar radiation. These two properties are of\n",
    "    particular interest to Reflective Earth in this analysis.\n",
    "    \n",
    "    Args:\n",
    "        dataset: xarray dataset containing shortwave radiative fluxes at the surface\n",
    "            and top of atmosphere.\n",
    "            \n",
    "    Returns:\n",
    "        xarray dataset with additional variables added.\n",
    "    \"\"\"\n",
    "    # System properties\n",
    "    dataset[\"R\"] = dataset[\"tosr\"] / dataset[\"tisr\"]\n",
    "    dataset[\"R\"] = fill_nas(dataset[\"R\"])\n",
    "    dataset[\"R\"].attrs[\"long_name\"] = \"Planetary albedo\"\n",
    "    dataset[\"R\"].attrs[\"standard_name\"] = \"planetary_albedo\"\n",
    "    dataset[\"R\"].attrs[\"units\"] = \"1\"\n",
    "    \n",
    "    dataset[\"T\"] = dataset[\"ssrd\"] / dataset[\"tisr\"]\n",
    "    dataset[\"T\"] = fill_nas(dataset[\"T\"])\n",
    "    dataset[\"T\"].attrs[\"long_name\"] = \"Planetary transmission\"\n",
    "    dataset[\"T\"].attrs[\"standard_name\"] = \"planetary_transmittance\"\n",
    "    dataset[\"T\"].attrs[\"units\"] = \"1\"\n",
    "    \n",
    "    dataset[\"A\"] = 1 - dataset[\"R\"]\n",
    "    dataset[\"A\"] = fill_nas(dataset[\"A\"])\n",
    "    dataset[\"A\"].attrs[\"long_name\"] = \"Planetary absorption\"\n",
    "    dataset[\"A\"].attrs[\"standard_name\"] = \"planetary_aborptance\"\n",
    "    dataset[\"A\"].attrs[\"units\"] = \"1\"\n",
    "    \n",
    "    dataset[\"alpha\"] = dataset[\"ssru\"] / dataset[\"ssrd\"]\n",
    "    dataset[\"alpha\"].attrs[\"long_name\"] = \"Surface albedo\"\n",
    "    dataset[\"alpha\"].attrs[\"standard_name\"] = \"surface_albedo\"\n",
    "    dataset[\"alpha\"].attrs[\"units\"] = \"1\"\n",
    "\n",
    "    # Intrinsic properties\n",
    "    dataset[\"a\"] = (dataset[\"tisr\"] * dataset[\"A\"] - (1 - dataset[\"alpha\"]) * dataset[\"ssrd\"]) / dataset[\"tisr\"]\n",
    "    dataset[\"a\"] = fill_nas(dataset[\"a\"])\n",
    "    dataset[\"a\"].attrs[\"long_name\"] = \"1-layer atmospheric absorption\"\n",
    "    dataset[\"a\"].attrs[\"standard_name\"] = \"atmosphere_absorptance\"\n",
    "    dataset[\"a\"].attrs[\"units\"] = \"1\"\n",
    "    \n",
    "    dataset[\"r\"] = dataset[\"R\"] - (dataset[\"alpha\"] * dataset[\"T\"]) * ((1 - dataset[\"alpha\"] * dataset[\"R\"]) /\n",
    "                                                                       (1 - dataset[\"alpha\"]**2 * dataset[\"T\"]**2))\n",
    "    dataset[\"r\"] = fill_nas(dataset[\"r\"])\n",
    "    dataset[\"r\"].attrs[\"long_name\"] = \"1-layer atmosphere reflectivity\"\n",
    "    dataset[\"r\"].attrs[\"standard_name\"] = \"atmosphere_reflectance\"\n",
    "    dataset[\"r\"].attrs[\"units\"] = \"1\"\n",
    "    \n",
    "    dataset[\"t\"] = 1 - dataset[\"r\"] - dataset[\"a\"]\n",
    "    dataset[\"t\"] = fill_nas(dataset[\"t\"])\n",
    "    dataset[\"t\"].attrs[\"long_name\"] = \"1-layer atmospheric transmission\"\n",
    "    dataset[\"t\"].attrs[\"standard_name\"] = \"atmosphere_transmittance\"\n",
    "    dataset[\"t\"].attrs[\"units\"] = \"1\"\n",
    "\n",
    "    # Reflective properties\n",
    "    dataset[\"srosr\"] = dataset[\"tisr\"] * (dataset[\"R\"] - dataset[\"r\"])\n",
    "    dataset[\"srosr\"].attrs[\"long_name\"] = \"Surface-reflected outgoing solar radiation\"\n",
    "    dataset[\"srosr\"].attrs[\"standard_name\"] = \"toa_outgoing_shortwave_flux\"\n",
    "    dataset[\"srosr\"].attrs[\"units\"] = \"J m**-2\"\n",
    "    \n",
    "    dataset[\"psrosr\"] = dataset[\"ssrd\"] * dataset[\"t\"]\n",
    "    dataset[\"psrosr\"].attrs[\"long_name\"] = \"Potential surface-reflected outgoing solar radiation\"\n",
    "    dataset[\"psrosr\"].attrs[\"standard_name\"] = \"toa_outgoing_shortwave_flux\"\n",
    "    dataset[\"psrosr\"].attrs[\"units\"] = \"J m**-2\"\n",
    "    \n",
    "    test_data(dataset)\n",
    "\n",
    "    return dataset\n",
    "\n",
    "\n",
    "def test_data(dataset):\n",
    "    \"\"\"Check data for errors.\"\"\"\n",
    "    # Check for infinites\n",
    "    assert dataset.psrosr.where(np.isinf(dataset.psrosr)).count() == 0\n",
    "    assert dataset.srosr.where(np.isinf(dataset.srosr)).count() == 0\n",
    "    assert dataset.t.where(np.isinf(dataset.t)).count() == 0\n",
    "    assert dataset.r.where(np.isinf(dataset.r)).count() == 0\n",
    "    assert dataset.a.where(np.isinf(dataset.a)).count() == 0\n",
    "\n",
    "\n",
    "def fill_nas(dataarray):\n",
    "    \"\"\"Fill in NaN for certain conditions.\n",
    "    \n",
    "    Args:\n",
    "        dataset: xarray DataArray.\n",
    "    \n",
    "    Returns:\n",
    "        xarray DataArray with zeros filled in certain conditions.\n",
    "    \"\"\"\n",
    "    dataarray = dataarray.where(~np.isinf(dataarray)).fillna(np.nan)  # fill infinite values with 0\n",
    "    dataarray = dataarray.where(dataarray < 1).fillna(np.nan)  # fill values greater than 1 with 1\n",
    "    dataarray = dataarray.where(dataarray > 0).fillna(np.nan)  # fill values less than 0 with 0\n",
    "    \n",
    "    return dataarray\n",
    "\n",
    "\n",
    "def drop_unneccesary_variables(dataset, keep_vars):\n",
    "    \"\"\"Drop variables not specified as necessary.\n",
    "    \n",
    "    Args:\n",
    "        dataset: xarray Dataset.\n",
    "        keep_vars: list of variables to keep.\n",
    "    \n",
    "    Returns:\n",
    "        xarray Dataset with specified variables.\n",
    "    \"\"\"\n",
    "    drop_vars = list(set(dataset.data_vars).symmetric_difference(set(keep_vars)))\n",
    "    return dataset.drop_vars(drop_vars)\n",
    "\n",
    "\n",
    "def process_hourly_data(single_date, hourly_data_bucket, daily_data_bucket, cleanup=False):\n",
    "    \"\"\"Process hourly average data into daily average data.\n",
    "    \n",
    "    Args:\n",
    "        single_date: date object representing day to retrieve data for.\n",
    "        hourly_data_bucket: str name of Google Cloud Storage bucket for hourly data.\n",
    "        daily_data_bucket: str name of Google Cloud Storage bucket for daily data.\n",
    "        cleanup: boolean option to remove downloaded data after processing.\n",
    "    \n",
    "    Returns:\n",
    "        Exit status of system call to upload processed data to Google Cloud Storage.\n",
    "        \n",
    "    Raises:\n",
    "        Exception: if the same bucket is provided for both hourly and daily data.\n",
    "    \"\"\"\n",
    "    if hourly_data_bucket == daily_data_bucket:\n",
    "        raise Exception(\"You must provide different buckets for hourly and daily data.\")\n",
    "    \n",
    "    get_date_data_gcs(single_date, hourly_data_bucket)\n",
    "    \n",
    "    with xr.open_dataset(f\"./{single_date.strftime('%Y%m%d')}.nc\") as ds:\n",
    "        ds = compute_boundary_fluxes(ds)\n",
    "        ds = compute_daily_average(ds)\n",
    "        ds = compute_radiative_properties(ds)\n",
    "        ds = drop_unneccesary_variables(ds, keep_vars=[\"ssrd\", \"ssru\", \"tisr\", \"tosr\",\n",
    "                                                       \"t\", \"r\", \"a\", \"srosr\", \"psrosr\"])\n",
    "        ds = modify_units(ds, \"J m**-2\", \"W m**-2\", (1 / 3600))  # 3600 seconds in an hour\n",
    "        ds.to_netcdf(f\"./{single_date.strftime('%Y%m%d')}.nc\")\n",
    "\n",
    "    #put_date_data_gcs(single_date, daily_data_bucket)\n",
    "    #check_blob_size(single_date, daily_data_bucket, raise_threshold=1e+7)\n",
    "    \n",
    "    if cleanup:\n",
    "        system(f\"rm {single_date.strftime('%Y%m%d')}.nc\")"
   ]
  },
  {
   "cell_type": "markdown",
   "id": "c54f898d",
   "metadata": {},
   "source": [
    "## Workflow\n",
    "\n",
    "For each day between the specified start and end dates, download the hourly data, process it, and upload it to a different bucket for daily data."
   ]
  },
  {
   "cell_type": "code",
   "execution_count": 5,
   "id": "8809c8d2",
   "metadata": {},
   "outputs": [
    {
     "data": {
      "application/vnd.jupyter.widget-view+json": {
       "model_id": "d9846f96013c4bf88c98cf0777f88324",
       "version_major": 2,
       "version_minor": 0
      },
      "text/plain": [
       "  0%|          | 0/31 [00:00<?, ?it/s]"
      ]
     },
     "metadata": {},
     "output_type": "display_data"
    }
   ],
   "source": [
    "with tqdm_joblib(tqdm(total=sum(1 for _ in daterange(start_date, end_date)))) as pbar:\n",
    "    Parallel(n_jobs=n_jobs,\n",
    "             backend=\"multiprocessing\")(delayed(process_hourly_data)(day, \n",
    "                                                                     hourly_data_bucket, \n",
    "                                                                     daily_data_bucket, \n",
    "                                                                     cleanup=False)\n",
    "                                        for day in daterange(start_date, end_date))"
   ]
  },
  {
   "cell_type": "markdown",
   "id": "1a3c2b12",
   "metadata": {},
   "source": [
    "## Discussion\n",
    "\n",
    "In the next notebook, `03-Analysis.ipynb` we'll investigate the results of the simple model of reflected sunlight that we implemented in the course of this data processing workflow."
   ]
  },
  {
   "cell_type": "code",
   "execution_count": 6,
   "id": "96a5f82d",
   "metadata": {},
   "outputs": [],
   "source": [
    "ds = xr.open_mfdataset(\"*.nc\", parallel=True)"
   ]
  },
  {
   "cell_type": "code",
   "execution_count": 7,
   "id": "18fc9d48",
   "metadata": {},
   "outputs": [],
   "source": [
    "def mean(obj, dim):\n",
    "    # note: apply always moves core dimensions to the end\n",
    "    return apply_ufunc(np.nanmean, obj, input_core_dims=[[dim]], kwargs={\"axis\": -1})"
   ]
  },
  {
   "cell_type": "code",
   "execution_count": 8,
   "id": "59a15cca",
   "metadata": {},
   "outputs": [],
   "source": [
    "delayed_average = ds.mean(dim=\"time\")"
   ]
  },
  {
   "cell_type": "code",
   "execution_count": 9,
   "id": "14da2c06",
   "metadata": {},
   "outputs": [
    {
     "name": "stdout",
     "output_type": "stream",
     "text": [
      "[########################################] | 100% Completed |  2.7s\n"
     ]
    },
    {
     "name": "stderr",
     "output_type": "stream",
     "text": [
      "/opt/conda/lib/python3.7/site-packages/dask/array/numpy_compat.py:40: RuntimeWarning: invalid value encountered in true_divide\n",
      "  x = np.divide(x1, x2, out)\n"
     ]
    }
   ],
   "source": [
    "from dask.diagnostics import ProgressBar\n",
    "\n",
    "with ProgressBar():\n",
    "    ds_ann = delayed_average.compute()"
   ]
  },
  {
   "cell_type": "code",
   "execution_count": 21,
   "id": "6745273f",
   "metadata": {},
   "outputs": [
    {
     "data": {
      "text/plain": [
       "<matplotlib.image.AxesImage at 0x7f6d2dc06e10>"
      ]
     },
     "execution_count": 21,
     "metadata": {},
     "output_type": "execute_result"
    },
    {
     "data": {
      "image/png": "[encoded data removed]",
      "text/plain": [
       "<Figure size 432x288 with 2 Axes>"
      ]
     },
     "metadata": {
      "needs_background": "light"
     },
     "output_type": "display_data"
    }
   ],
   "source": [
    "ds_ann.psrosr.squeeze().plot.imshow()"
   ]
  },
  {
   "cell_type": "code",
   "execution_count": null,
   "id": "34267013",
   "metadata": {},
   "outputs": [],
   "source": [
    "ds_ann.t.squeeze().plot.imshow()"
   ]
  },
  {
   "cell_type": "code",
   "execution_count": null,
   "id": "6437f79c",
   "metadata": {},
   "outputs": [],
   "source": [
    "ds_ann.r.squeeze().plot.imshow()"
   ]
  },
  {
   "cell_type": "code",
   "execution_count": null,
   "id": "43195719",
   "metadata": {},
   "outputs": [],
   "source": [
    "ds_ann.a.squeeze().plot.imshow()"
   ]
  },
  {
   "cell_type": "code",
   "execution_count": null,
   "id": "7135775e",
   "metadata": {},
   "outputs": [],
   "source": [
    "ds_ann.to_netcdf(f\"./{year}.nc\")"
   ]
  },
  {
   "cell_type": "code",
   "execution_count": null,
   "id": "443b8b56",
   "metadata": {},
   "outputs": [],
   "source": [
    "put_data_gcs(\".\", f\"{year}.nc\", \"rom-input\")"
   ]
  },
  {
   "cell_type": "code",
   "execution_count": null,
   "id": "656fb86e",
   "metadata": {},
   "outputs": [],
   "source": [
    "#system(\"rm -f ./*.nc\")"
   ]
  },
  {
   "cell_type": "code",
   "execution_count": null,
   "id": "4299007b",
   "metadata": {},
   "outputs": [],
   "source": []
  }
 ],
 "metadata": {
  "environment": {
   "name": "common-cpu.m71",
   "type": "gcloud",
   "uri": "gcr.io/deeplearning-platform-release/base-cpu:m71"
  },
  "kernelspec": {
   "display_name": "Python 3",
   "language": "python",
   "name": "python3"
  },
  "language_info": {
   "codemirror_mode": {
    "name": "ipython",
    "version": 3
   },
   "file_extension": ".py",
   "mimetype": "text/x-python",
   "name": "python",
   "nbconvert_exporter": "python",
   "pygments_lexer": "ipython3",
   "version": "3.7.10"
  }
 },
 "nbformat": 4,
 "nbformat_minor": 5
}
